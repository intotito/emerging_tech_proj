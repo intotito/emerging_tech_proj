{
 "cells": [
  {
   "cell_type": "markdown",
   "metadata": {},
   "source": [
    "---\n",
    "\n",
    "# Deutsch Algorithm\n",
    "\n",
    "# Introduction\n",
    "The Deutsch Algorithm also known as Deutsch-Jozsa Algorithm describes a solution to a class of problem that can be solved more efficiently by means of quantum computation.\n",
    "It demonstrates a quantum algorithm that is exponentially faster than any possible deterministic classical algorithm for a specifically designed problem.\n",
    "The problem in question which will be referred to as the `Deutsch-Jozsa problem` in this text, is a black-box problem which can be solved efficiently by a quantum computer\n",
    "with no error. Before delving further into the algorithm, the next section talks about the formulation of the problem.\n",
    "\n",
    "### Deutsch-Jozsa Problem\n",
    "\n",
    "The Deutsch-Jozsa Problem can be stated as follows, given a function $f$ operating over a string $x$ of finite length $N$ where $x, N, f(x) \\in \\sum = \\{0, 1\\}$ \n",
    "ie. $f: \\{0, 1\\} ^N \\to \\{0, 1\\}$, determine if the input is constant or balanced. Constant in this context is when all the input are either $0$ s or $1$ s and balanced is \n",
    "when the count of $$ s and $1$ s are equal. The problem is such that for any given input the string is EITHER constant or balanced. \n",
    " $$ f(x) = \\begin{cases}\n",
    "    0 & \\text{if } x \\text { is constant} \\\\\n",
    "    1 & \\text{if } x \\text { is balanced} \n",
    "  \\end{cases}\n",
    "$$\n",
    "\n",
    "Modeling a solution to this class of problem using a classical deterministic algorithm will have the following best and worst case sceneiros given a string of length N:\n",
    "  - Best Case Sceneiro\n",
    "    - If the first two alphabets of string $x$ is exclusive, then one can conclusively say that the string $x$ is balanced.\n",
    "  - Worst Case Sceneiro\n",
    "    - This will be the case when  \n",
    "    If the first $\\frac{\\lvert x \\rvert}{2} = \\frac{N}{2}$ alphabets of the string is constant, then it will take $\\frac{\\lvert x \\rvert}{2} + 1$ number of iterations to \n",
    "    conclusively evaluate $f(x)$. \n",
    "\n",
    "\n",
    "\n"
   ]
  },
  {
   "cell_type": "markdown",
   "metadata": {},
   "source": [
    "{bibliography}"
   ]
  },
  {
   "cell_type": "markdown",
   "metadata": {},
   "source": [
    "See :cite:t:`perez2011python` for an introduction to non-standard analysis.\n",
    "Non-standard analysis is fun \\cite{1987:nelson}\n",
    "\n",
    ".. bibliography::"
   ]
  },
  {
   "cell_type": "markdown",
   "metadata": {},
   "source": [
    "Here is my nifty citation {cite}`perez2011python`.\n",
    "\n",
    "```{bibliography}\n",
    "```"
   ]
  },
  {
   "cell_type": "markdown",
   "metadata": {},
   "source": [
    "# References\n",
    "\n",
    "(<a id=\"cit-perez2011python\" href=\"#call-perez2011python\">Perez, Granger <em>et al.</em>, 2011</a>) Perez Fernando, Granger Brian E and Hunter John D, ``_Python: an ecosystem for scientific computing_'', Computing in Science \\\\& Engineering, vol. 13, number 2, pp. 13--21,  2011.\n",
    "\n",
    "(<a id=\"cit-1987:nelson\" href=\"#call-1987:nelson\">?</a>) !! _This reference was not found in biblio.bib _ !!\n",
    "\n"
   ]
  },
  {
   "cell_type": "markdown",
   "metadata": {},
   "source": [
    "```\\References\n",
    "```"
   ]
  },
  {
   "cell_type": "code",
   "execution_count": 15,
   "metadata": {},
   "outputs": [
    {
     "data": {
      "image/png": "[encoded data removed]",
      "text/plain": [
       "<Figure size 438.084x284.278 with 1 Axes>"
      ]
     },
     "metadata": {},
     "output_type": "display_data"
    }
   ],
   "source": [
    "import qiskit as QS\n",
    "\n",
    "A = QS.QuantumRegister(1, \"A\")\n",
    "B = QS.QuantumRegister(1, \"B\")\n",
    "C = QS.ClassicalRegister(1, \"C\")\n",
    "# D = QS.ClassicalRegister(1, \"D\")\n",
    "\n",
    "circuit = QS.QuantumCircuit(A, B, C)\n",
    "circuit.h(A)\n",
    "circuit.cx(A, B)\n",
    "circuit.measure(A, C)\n",
    "circuit.measure(B, C)\n",
    "display(circuit.draw(output='mpl'))"
   ]
  },
  {
   "cell_type": "markdown",
   "metadata": {},
   "source": [
    "***\n",
    "### End"
   ]
  }
 ],
 "metadata": {
  "kernelspec": {
   "display_name": "Python 3 (ipykernel)",
   "language": "python",
   "name": "python3"
  },
  "language_info": {
   "codemirror_mode": {
    "name": "ipython",
    "version": 3
   },
   "file_extension": ".py",
   "mimetype": "text/x-python",
   "name": "python",
   "nbconvert_exporter": "python",
   "pygments_lexer": "ipython3",
   "version": "3.11.4"
  },
  "latex_envs": {
   "LaTeX_envs_menu_present": true,
   "autoclose": false,
   "autocomplete": true,
   "bibliofile": "biblio.bib",
   "cite_by": "apalike",
   "current_citInitial": 1,
   "eqLabelWithNumbers": true,
   "eqNumInitial": 1,
   "hotkeys": {
    "equation": "Ctrl-E",
    "itemize": "Ctrl-I"
   },
   "labels_anchors": false,
   "latex_user_defs": false,
   "report_style_numbering": false,
   "user_envs_cfg": false
  }
 },
 "nbformat": 4,
 "nbformat_minor": 2
}
