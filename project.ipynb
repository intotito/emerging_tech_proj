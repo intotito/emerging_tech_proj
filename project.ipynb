{
 "cells": [
  {
   "cell_type": "markdown",
   "metadata": {},
   "source": [
    "The main paper on IPython is definitively \\cite{perez2011python}."
   ]
  },
  {
   "cell_type": "markdown",
   "metadata": {},
   "source": [
    "{bibliography}"
   ]
  },
  {
   "cell_type": "markdown",
   "metadata": {},
   "source": [
    "See :cite:t:`perez2011python` for an introduction to non-standard analysis.\n",
    "Non-standard analysis is fun \\cite{1987:nelson}\n",
    "\n",
    ".. bibliography::"
   ]
  },
  {
   "cell_type": "markdown",
   "metadata": {},
   "source": [
    "Here is my nifty citation {cite}`perez2011python`.\n",
    "\n",
    "```{bibliography}\n",
    "```"
   ]
  },
  {
   "cell_type": "markdown",
   "metadata": {},
   "source": [
    "# References\n",
    "\n",
    "(<a id=\"cit-perez2011python\" href=\"#call-perez2011python\">Perez, Granger <em>et al.</em>, 2011</a>) Perez Fernando, Granger Brian E and Hunter John D, ``_Python: an ecosystem for scientific computing_'', Computing in Science \\\\& Engineering, vol. 13, number 2, pp. 13--21,  2011.\n",
    "\n",
    "(<a id=\"cit-1987:nelson\" href=\"#call-1987:nelson\">?</a>) !! _This reference was not found in biblio.bib _ !!\n",
    "\n"
   ]
  },
  {
   "cell_type": "markdown",
   "metadata": {},
   "source": [
    "```\\References\n",
    "```"
   ]
  },
  {
   "cell_type": "markdown",
   "metadata": {},
   "source": []
  }
 ],
 "metadata": {
  "kernelspec": {
   "display_name": "Python 3 (ipykernel)",
   "language": "python",
   "name": "python3"
  },
  "language_info": {
   "codemirror_mode": {
    "name": "ipython",
    "version": 3
   },
   "file_extension": ".py",
   "mimetype": "text/x-python",
   "name": "python",
   "nbconvert_exporter": "python",
   "pygments_lexer": "ipython3",
   "version": "3.11.4"
  },
  "latex_envs": {
   "LaTeX_envs_menu_present": true,
   "autoclose": false,
   "autocomplete": true,
   "bibliofile": "biblio.bib",
   "cite_by": "apalike",
   "current_citInitial": 1,
   "eqLabelWithNumbers": true,
   "eqNumInitial": 1,
   "hotkeys": {
    "equation": "Ctrl-E",
    "itemize": "Ctrl-I"
   },
   "labels_anchors": false,
   "latex_user_defs": false,
   "report_style_numbering": false,
   "user_envs_cfg": false
  }
 },
 "nbformat": 4,
 "nbformat_minor": 2
}
