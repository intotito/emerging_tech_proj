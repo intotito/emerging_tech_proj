{
 "cells": [
  {
   "cell_type": "markdown",
   "metadata": {},
   "source": [
    "## Task 1\n",
    "### Collatz conjecture\n",
    "Verify that the conjecture is true for the first 10000 positive integer\n",
    "\n",
    "#### Solution\n",
    "- Develop an algorithm using Python to perform the operation. \n",
    "- Observe the output.\n",
    "- Make a conclusion. "
   ]
  },
  {
   "cell_type": "markdown",
   "metadata": {},
   "source": [
    "Collatz conjecture\n",
    "  $$ f(x) = \\begin{cases}\n",
    "    x \\div 2 & \\text{if } x \\text{ is even} \\\\\n",
    "    3x + 1              & \\text{otherwise} \n",
    "  \\end{cases}$$"
   ]
  },
  {
   "cell_type": "code",
   "execution_count": 1,
   "metadata": {},
   "outputs": [
    {
     "name": "stdout",
     "output_type": "stream",
     "text": [
      "(50000, 25000, 12500, 6250, 3125, 9376, 4688, 2344, 1172, 586, 293, 880, 440, 220, 110, 55, 166, 83, 250, 125, 376, 188, 94, 47, 142, 71, 214, 107, 322, 161, 484, 242, 121, 364, 182, 91, 274, 137, 412, 206, 103, 310, 155, 466, 233, 700, 350, 175, 526, 263, 790, 395, 1186, 593, 1780, 890, 445, 1336, 668, 334, 167, 502, 251, 754, 377, 1132, 566, 283, 850, 425, 1276, 638, 319, 958, 479, 1438, 719, 2158, 1079, 3238, 1619, 4858, 2429, 7288, 3644, 1822, 911, 2734, 1367, 4102, 2051, 6154, 3077, 9232, 4616, 2308, 1154, 577, 1732, 866, 433, 1300, 650, 325, 976, 488, 244, 122, 61, 184, 92, 46, 23, 70, 35, 106, 53, 160, 80, 40, 20, 10, 5, 16, 8, 4, 2, 1)\n",
      "Number of iterations:  128\n"
     ]
    }
   ],
   "source": [
    "count = 0\n",
    "\n",
    "print(\"(\", end=\"\")\n",
    "# Recursive function that runs until it encounters 1. \n",
    "# The algorithm righfully terminates because further interations will always result in the sequence of 4, 2, 1, ... etc\n",
    "def collatzConjecture(x: int):\n",
    "    global count\n",
    "    count += 1\n",
    "    if(x % 2 == 0):\n",
    "        x = x / 2\n",
    "    else:\n",
    "        x = 3 * x + 1\n",
    "    print(int(x), end=\"\")\n",
    "    if(x == 1):\n",
    "        print(\")\")\n",
    "        print(\"Number of iterations: \", count)\n",
    "        return\n",
    "    else:\n",
    "        print(\", \", end=\"\")\n",
    "    collatzConjecture(x)\n",
    "\n",
    "collatzConjecture(100000)\n"
   ]
  },
  {
   "cell_type": "markdown",
   "metadata": {},
   "source": [
    "# Task 2\n",
    "### Square root using Newton's method\n",
    "\n",
    "Evaluate the square root of a given integer using Newton's method.\n",
    "\n",
    "\n",
    "$$ z_{i+1} = z_i -  \\frac{z_i \\times z_i - x}{2 z_i}$$"
   ]
  },
  {
   "cell_type": "code",
   "execution_count": 2,
   "metadata": {},
   "outputs": [
    {
     "name": "stdout",
     "output_type": "stream",
     "text": [
      "root  6.680555555555555\n",
      "root  5.211379648879649\n",
      "root  5.00428690279455\n",
      "root  5.000001836179252\n",
      "root  5.000000000000337\n"
     ]
    },
    {
     "data": {
      "text/plain": [
       "5.000000000000337"
      ]
     },
     "execution_count": 2,
     "metadata": {},
     "output_type": "execute_result"
    }
   ],
   "source": [
    "threshold = 0.00001\n",
    "\n",
    "def newtonReduction(z: float, guess: float) -> float:\n",
    "    return guess - (guess * guess - z) / (2 * guess)\n",
    "\n",
    "\n",
    "def sqrt(x) -> float : \n",
    "    global threshold\n",
    "    guess = (x / 2.0) * ((x - 1.0) / (x + 2.0)) # zi\n",
    "    while(True):\n",
    "        root = newtonReduction(x, guess)\n",
    "        print(\"root \", root)\n",
    "        if(abs(root - guess) <= threshold):\n",
    "            return root\n",
    "        else :\n",
    "            guess = root\n",
    "\n",
    "\n",
    "\n",
    "\n",
    "\n",
    "sqrt(25)"
   ]
  },
  {
   "cell_type": "code",
   "execution_count": null,
   "metadata": {},
   "outputs": [],
   "source": []
  }
 ],
 "metadata": {
  "kernelspec": {
   "display_name": "base",
   "language": "python",
   "name": "python3"
  },
  "language_info": {
   "codemirror_mode": {
    "name": "ipython",
    "version": 3
   },
   "file_extension": ".py",
   "mimetype": "text/x-python",
   "name": "python",
   "nbconvert_exporter": "python",
   "pygments_lexer": "ipython3",
   "version": "3.9.13"
  },
  "orig_nbformat": 4
 },
 "nbformat": 4,
 "nbformat_minor": 2
}
