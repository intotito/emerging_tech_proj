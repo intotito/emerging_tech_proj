{
 "cells": [
  {
   "cell_type": "markdown",
   "metadata": {},
   "source": [
    "## Task 1\n",
    "### Collatz conjecture\n",
    "Verify that the conjecture is true for the first 10000 positive integer\n",
    "\n",
    "#### Solution\n",
    "- Develop an algorithm using Python to perform the operation. \n",
    "- Observe the output.\n",
    "- Make a conclusion. "
   ]
  },
  {
   "cell_type": "markdown",
   "metadata": {},
   "source": [
    "Collatz conjecture\n",
    "  $$ f(x) = \\begin{cases}\n",
    "    x \\div 2 & \\text{if } x \\text{ is even} \\\\\n",
    "    3x + 1              & \\text{otherwise} \n",
    "  \\end{cases}$$"
   ]
  },
  {
   "cell_type": "code",
   "execution_count": 1,
   "metadata": {},
   "outputs": [
    {
     "name": "stdout",
     "output_type": "stream",
     "text": [
      "(50000, 25000, 12500, 6250, 3125, 9376, 4688, 2344, 1172, 586, 293, 880, 440, 220, 110, 55, 166, 83, 250, 125, 376, 188, 94, 47, 142, 71, 214, 107, 322, 161, 484, 242, 121, 364, 182, 91, 274, 137, 412, 206, 103, 310, 155, 466, 233, 700, 350, 175, 526, 263, 790, 395, 1186, 593, 1780, 890, 445, 1336, 668, 334, 167, 502, 251, 754, 377, 1132, 566, 283, 850, 425, 1276, 638, 319, 958, 479, 1438, 719, 2158, 1079, 3238, 1619, 4858, 2429, 7288, 3644, 1822, 911, 2734, 1367, 4102, 2051, 6154, 3077, 9232, 4616, 2308, 1154, 577, 1732, 866, 433, 1300, 650, 325, 976, 488, 244, 122, 61, 184, 92, 46, 23, 70, 35, 106, 53, 160, 80, 40, 20, 10, 5, 16, 8, 4, 2, 1)\n",
      "Number of iterations:  128\n"
     ]
    }
   ],
   "source": [
    "# Count to keep account of number of iterations\n",
    "count = 0\n",
    "\n",
    "print(\"(\", end=\"\")\n",
    "# Recursive function that runs until it encounters 1. \n",
    "# The algorithm righfully terminates because further interations will always result in the sequence of 4, 2, 1, ... etc\n",
    "def collatzConjecture(x: int):\n",
    "    global count\n",
    "    count += 1\n",
    "    if(x % 2 == 0): # Check for Even\n",
    "        x = x / 2\n",
    "    else:           # Definetely Odd\n",
    "        x = 3 * x + 1\n",
    "    print(int(x), end=\"\")\n",
    "    if(x == 1):\n",
    "        print(\")\")\n",
    "        print(\"Number of iterations: \", count)\n",
    "        return      # Method returns when it encounters 1\n",
    "    else:\n",
    "        print(\", \", end=\"\")\n",
    "    collatzConjecture(x)\n",
    "\n",
    "collatzConjecture(100000)\n"
   ]
  },
  {
   "cell_type": "markdown",
   "metadata": {},
   "source": [
    "# Task 2\n",
    "### Square root using Newton's method\n",
    "\n",
    "Evaluate the square root of a given integer using Newton's method.\n",
    "\n",
    "\n",
    "$$ z_{i+1} = z_i -  \\frac{z_i \\times z_i - x}{2 z_i}$$"
   ]
  },
  {
   "cell_type": "code",
   "execution_count": 2,
   "metadata": {},
   "outputs": [
    {
     "name": "stdout",
     "output_type": "stream",
     "text": [
      "root  6.680555555555555\n",
      "root  5.211379648879649\n",
      "root  5.00428690279455\n",
      "root  5.000001836179252\n",
      "root  5.000000000000337\n"
     ]
    },
    {
     "data": {
      "text/plain": [
       "5.000000000000337"
      ]
     },
     "execution_count": 2,
     "metadata": {},
     "output_type": "execute_result"
    }
   ],
   "source": [
    "# Choose a threshold for for floating point accuracy \n",
    "threshold = 0.00001\n",
    "\n",
    "# An implementation of the Newton's method that accepts two parameters and returns \n",
    "def newtonReduction(z: float, guess: float) -> float:\n",
    "    return guess - (guess * guess - z) / (2 * guess)\n",
    "\n",
    "\n",
    "def sqrt(x) -> float : \n",
    "    global threshold\n",
    "    guess = (x / 2.0) * ((x - 1.0) / (x + 2.0)) # zi\n",
    "    while(True):\n",
    "        root = newtonReduction(x, guess)\n",
    "        print(\"root \", root)\n",
    "        if(abs(root - guess) <= threshold):\n",
    "            return root\n",
    "        else :\n",
    "            guess = root\n",
    "\n",
    "\n",
    "\n",
    "\n",
    "\n",
    "sqrt(25)"
   ]
  },
  {
   "cell_type": "markdown",
   "metadata": {},
   "source": [
    "# Task 3\n",
    "\n",
    "- How many possible functions are there possible for a function taking four bits as an input and single bit as output?"
   ]
  },
  {
   "cell_type": "code",
   "execution_count": 7,
   "metadata": {},
   "outputs": [
    {
     "name": "stdout",
     "output_type": "stream",
     "text": [
      "Number of possible input: 16\n",
      "Number of possible functions: 65536\n",
      "Check this 1\n"
     ]
    }
   ],
   "source": [
    "# How many possible function when input = 4bits, output = 1bit\n",
    "\n",
    "import random\n",
    "\n",
    "\n",
    "n_input = 4                                     # Number of input bits\n",
    "n_out = 1                                       # Number of output bits\n",
    "\n",
    "f_input = pow(2, n_input)                       # Number of possible inputs\n",
    "f_output = pow(2, pow(n_input, 2))              # Number of possible functions\n",
    "\n",
    "print(\"Number of possible input:\", f_input)\n",
    "print(\"Number of possible functions:\", f_output)\n",
    "\n",
    "def randomFunctionGen():\n",
    "    rand = random.randint(0, f_output)                      # Randomly pick one of the possible functions\n",
    " #  print(\"Random function, f() =\", bin(rand))\n",
    "    def f(*argv):                                           # define a function that accepts variable number of parameters (in this case 4)\n",
    "        count = 0                                           # initizlize count for the number of parameters\n",
    "        for c in argv :\n",
    "            count += 1                                      # iteratively calculate the number of parameters\n",
    "        value = 0                                           # initialize the value for the index of the input\n",
    "        for i in range(count):\n",
    "            value = value + (argv[i] << (count - 1 - i))    # iteratively calculate the equivalent index of the input parameters\n",
    "        return (rand >> (f_input - 1 - value)) & 1          # evaluate the output of the function by evaluating the value of the equivalent index, `value`\n",
    "    return f\n",
    "\n",
    "# A fixed parameter equivalent of the same function\n",
    "def ranFunGen():\n",
    "    ran = random.randint(0, f_output) \n",
    "    def ranFunc(a : int, b : int, c: int, d : int) :\n",
    "        value = (a << 3) + (b << 2) + (c << 1) + d\n",
    "        return (ran >> (f_input - 1 - value)) & 1\n",
    "    return ranFunc\n",
    "\n",
    "f = randomFunctionGen()\n",
    "\n",
    "print(\"Check this\", f(1, 1, 1, 1))"
   ]
  },
  {
   "cell_type": "markdown",
   "metadata": {},
   "source": [
    "- How many times does the function needs to be called to ascertain which function it is?\n",
    "\n",
    "    -   Solution\n",
    "    For all the possible number of functions, a close inspection suggests that for the majority of the functions the inputs are independent \n",
    "    except for a very few that suggests some kind of OR, AND, XOR, constant, etc..\n",
    "    Therefore it is save to assumen that the said function has indpendent inputs. The implication of this conclusion is that, to conclusively\n",
    "    determine which function that was called, we have to exhaustively try out all the possible input and then map the acculmated outputs to\n",
    "    a particular function from the list of possible functions. \n",
    "\n",
    "    `Since the possible number of inputs is 16, then the function must be called 16 times to be certain which function was called`"
   ]
  },
  {
   "cell_type": "code",
   "execution_count": 51,
   "metadata": {},
   "outputs": [
    {
     "name": "stdout",
     "output_type": "stream",
     "text": [
      "Check 4\n"
     ]
    },
    {
     "data": {
      "text/plain": [
       "1"
      ]
     },
     "execution_count": 51,
     "metadata": {},
     "output_type": "execute_result"
    }
   ],
   "source": [
    "\n",
    "# A function to call all the possible inputs \n",
    "\n",
    "def verboseTrial()\n",
    "    return 0"
   ]
  }
 ],
 "metadata": {
  "kernelspec": {
   "display_name": "Python 3 (ipykernel)",
   "language": "python",
   "name": "python3"
  },
  "language_info": {
   "codemirror_mode": {
    "name": "ipython",
    "version": 3
   },
   "file_extension": ".py",
   "mimetype": "text/x-python",
   "name": "python",
   "nbconvert_exporter": "python",
   "pygments_lexer": "ipython3",
   "version": "3.11.4"
  },
  "latex_envs": {
   "LaTeX_envs_menu_present": true,
   "autoclose": false,
   "autocomplete": true,
   "bibliofile": "biblio.bib",
   "cite_by": "apalike",
   "current_citInitial": 1,
   "eqLabelWithNumbers": true,
   "eqNumInitial": 1,
   "hotkeys": {
    "equation": "Ctrl-E",
    "itemize": "Ctrl-I"
   },
   "labels_anchors": false,
   "latex_user_defs": false,
   "report_style_numbering": false,
   "user_envs_cfg": false
  }
 },
 "nbformat": 4,
 "nbformat_minor": 2
}
